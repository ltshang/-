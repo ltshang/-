{
 "cells": [
  {
   "cell_type": "markdown",
   "metadata": {},
   "source": [
    "### 环境准备"
   ]
  },
  {
   "cell_type": "code",
   "execution_count": 3,
   "metadata": {},
   "outputs": [],
   "source": [
    "import pandas as pd\n",
    "import requests\n",
    "from urllib.parse import urlencode\n",
    "from bs4 import BeautifulSoup\n",
    "import re\n",
    "headers ={ 'User-Agent': 'Mozilla/5.0 (Macintosh; Intel Mac OS X 10_11_4) AppleWebKit/537.36 (KHTML, like Gecko) Chrome/52.0.2743.116 Safari/537.36'}"
   ]
  },
  {
   "cell_type": "markdown",
   "metadata": {},
   "source": [
    "### 项目总表"
   ]
  },
  {
   "cell_type": "code",
   "execution_count": 5,
   "metadata": {},
   "outputs": [],
   "source": [
    "url = 'http://117.39.29.75:8085/pricePublic/house/public/index?id=8a901c286aa0405a016b50713e4701ad&page=1&size=100'\n",
    "#url = 'http://117.39.29.75:8085/pricePublic/house/public/index'\n",
    "response = requests.get(url, headers=headers)\n",
    "soup = BeautifulSoup(response.text, 'lxml')\n",
    "\n",
    "data_list = []\n",
    "name_list = []\n",
    "buildNo_list = []\n",
    "for idx, tr in enumerate(soup.find_all('tbody')):\n",
    "    tds = tr.find_all('td')\n",
    "    for i in range(0,len(tds),5):\n",
    "        data_list.append({\n",
    "            '1项目名称': str(tds[i].contents[0])[68:-4],\n",
    "            '2所属批次': tds[i+1].contents[0],\n",
    "            '3公示时间': tds[i+2].contents[0],\n",
    "            '4申报楼栋': tds[i+3].contents[0],\n",
    "            '5总层数': tds[i+4].contents[0]\n",
    "        })\n",
    "        h = str(tds[i].contents[0])[18:50]\n",
    "        name_list.append(h)\n",
    "        k = tds[i+3].contents[0]\n",
    "        buildNo_list.append(k)\n",
    "data_list1 = pd.DataFrame(data_list)\n",
    "data_list1[['项目名称','所属批次','公示时间','申报楼栋','总层数']] = data_list1[['1项目名称','2所属批次','3公示时间','4申报楼栋','5总层数']]\n",
    "data_list1 = data_list1.iloc[:,5:]\n",
    "data_list1.to_excel('C:\\\\Users\\\\l\\\\Desktop\\\\项目总表.xlsx',encoding = \"gbk\")"
   ]
  },
  {
   "cell_type": "markdown",
   "metadata": {},
   "source": [
    "### 明细数据"
   ]
  },
  {
   "cell_type": "code",
   "execution_count": 7,
   "metadata": {},
   "outputs": [],
   "source": [
    "def get_tabledata(ID,NO):\n",
    "    params = {\n",
    "                'id': ID, #参数一\n",
    "                'page': '1',\n",
    "                'size': '10000',\n",
    "                'sort': '',\n",
    "                'buildNo': NO,#参数二\n",
    "                }\n",
    "    url = 'http://117.39.29.75:8085/pricePublic/house/public/price?' + urlencode(params)\n",
    "    #print(url)\n",
    "    response = requests.get(url, headers=headers)\n",
    "    pat = '<td>(.*?)</td>'\n",
    "    pat1 = '<span style=\"display:inline-block;\">(.*?)</span></td>'\n",
    "    pat2 = '<span>(.*?)</span>'\n",
    "    rst = re.compile(pat).findall(response.text)\n",
    "    rst1 = re.compile(pat1).findall(response.text)\n",
    "    rst2 = re.compile(pat2).findall(response.text)\n",
    "    str = rst2[0]\n",
    "    result = re.search('(.*?)号楼 一房一价信息,层数：(\\d+)', str)\n",
    "    lz = result.group(1)\n",
    "    lc = result.group(2)\n",
    "\n",
    "    table_head = {'A':['项目名称','项目地址','楼幢信息','楼层信息','序号'],\n",
    "            'B':[rst1[0],rst1[2],lz,lc,'房间号'],\n",
    "            'C':['装修标准','','','信息核查','建筑面积'],\n",
    "            'D':[rst1[1],'','',rst2[0],'单价'],\n",
    "            'E':['','','','','房屋总价'],\n",
    "    }\n",
    "    table_head = pd.DataFrame(table_head)\n",
    "    #print(table_head)\n",
    "    del rst[0]\n",
    "    data_list = []\n",
    "    for i in range(0,len(rst),5):\n",
    "        data_list.append({\n",
    "            '1序号': rst[i],\n",
    "            '2房间号': rst[i+1],\n",
    "            '3建筑面积': rst[i+2],\n",
    "            '4房屋均价': rst[i+3],\n",
    "            '5房屋总价': rst[i+4]\n",
    "        })\n",
    "    data_list = pd.DataFrame(data_list)\n",
    "    data_list[['A','B','C','D','E']] = data_list[['1序号','2房间号','3建筑面积','4房屋均价','5房屋总价']]\n",
    "    data_list[['A','C','D','E']] = data_list[['A','C','D','E']].astype(float)\n",
    "    data_list = data_list.iloc[:,5:]\n",
    "    data_table = pd.concat([table_head,data_list],axis=0,ignore_index=True)#纵向合并，不考虑原来的index\n",
    "    data_table.to_excel(\"C:\\\\Users\\\\l\\\\Desktop\\\\\" + rst1[0] + lz + '#.xlsx',encoding = \"gbk\")\n",
    "    #print(data_list)"
   ]
  },
  {
   "cell_type": "markdown",
   "metadata": {},
   "source": [
    "### 保存数据"
   ]
  },
  {
   "cell_type": "code",
   "execution_count": 8,
   "metadata": {},
   "outputs": [],
   "source": [
    "i = 0\n",
    "while i < len(buildNo_list):\n",
    "    ID = name_list[i]\n",
    "    str = buildNo_list[i]\n",
    "    m = str.replace(\"、\",\",\")\n",
    "    m = m.replace(\"#\",\"\")\n",
    "    m = m.split(',')\n",
    "    for NO in m:\n",
    "        get_tabledata(ID,NO)\n",
    "    i = i + 1"
   ]
  },
  {
   "cell_type": "code",
   "execution_count": null,
   "metadata": {},
   "outputs": [],
   "source": []
  },
  {
   "cell_type": "code",
   "execution_count": null,
   "metadata": {},
   "outputs": [],
   "source": []
  }
 ],
 "metadata": {
  "kernelspec": {
   "display_name": "Python 3",
   "language": "python",
   "name": "python3"
  },
  "language_info": {
   "codemirror_mode": {
    "name": "ipython",
    "version": 3
   },
   "file_extension": ".py",
   "mimetype": "text/x-python",
   "name": "python",
   "nbconvert_exporter": "python",
   "pygments_lexer": "ipython3",
   "version": "3.7.0"
  }
 },
 "nbformat": 4,
 "nbformat_minor": 2
}
