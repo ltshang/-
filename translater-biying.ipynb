{
 "cells": [
  {
   "cell_type": "code",
   "execution_count": 1,
   "metadata": {},
   "outputs": [],
   "source": [
    "from urllib.request import urlopen\n",
    "from urllib.parse import urlencode\n",
    "from bs4 import BeautifulSoup\n",
    "\n",
    "def fanyi(key):\n",
    "    param = {'q': key}\n",
    "    newkey = urlencode(param)\n",
    "    url = 'https://cn.bing.com/dict/search?' + newkey\n",
    "    # print(url)\n",
    "    response = urlopen(url)\n",
    "    bs = BeautifulSoup(response,\"html.parser\")\n",
    "    lis = bs.select('div.qdef > ul > li')\n",
    "    # print(bs)\n",
    "    li_content = []\n",
    "    for li in lis:\n",
    "        li_content.append(li.text)\n",
    "        print(li.text)\n",
    "while True:\n",
    "    key = input('请输入内容：')\n",
    "    if key == 'byebye':\n",
    "        print('再见，欢迎下次使用')\n",
    "        break\n",
    "    fanyi(key)"
   ]
  },
  {
   "cell_type": "code",
   "execution_count": 3,
   "metadata": {},
   "outputs": [
    {
     "name": "stdout",
     "output_type": "stream",
     "text": [
      "请输入内容：book\n",
      "n.书；书籍；著作；部\n",
      "v.预订；预约；给（某人）预订飞机等座位；和（歌手等）预约演出日期\n",
      "adj.书籍的；书本上的；账面上的\n",
      "网络预定；图书；卷\n",
      "请输入内容：翻译\n",
      "n.translation; translator\n",
      "v.translate; interpret; render\n",
      "网络Translator; version; interpreter\n",
      "请输入内容：byebye\n",
      "再见，欢迎下次使用\n"
     ]
    }
   ],
   "source": []
  },
  {
   "cell_type": "code",
   "execution_count": null,
   "metadata": {},
   "outputs": [],
   "source": []
  }
 ],
 "metadata": {
  "kernelspec": {
   "display_name": "Python 3",
   "language": "python",
   "name": "python3"
  },
  "language_info": {
   "codemirror_mode": {
    "name": "ipython",
    "version": 3
   },
   "file_extension": ".py",
   "mimetype": "text/x-python",
   "name": "python",
   "nbconvert_exporter": "python",
   "pygments_lexer": "ipython3",
   "version": "3.7.0"
  }
 },
 "nbformat": 4,
 "nbformat_minor": 2
}
