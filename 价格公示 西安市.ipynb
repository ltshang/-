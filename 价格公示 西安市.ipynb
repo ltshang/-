{
 "cells": [
  {
   "cell_type": "code",
   "execution_count": 1,
   "metadata": {},
   "outputs": [],
   "source": [
    "import pandas as pd\n",
    "from openpyxl import Workbook\n",
    "import os\n",
    "import time\n",
    "wb=Workbook()\n",
    "ws=wb.active\n",
    "time = time.strftime(\"%Y/%m/%d\",time.localtime())\n",
    "bt = ['价格公示时间','公示批数','项目名称','项目全名','备注','区域','板块','房企','物业类型','楼幢号','装修情况','单元数','楼层','梯户比','面积','总价','总建面','均价1','均价','均价环比','价格区间','总户数']\n",
    "ws.append(bt)"
   ]
  },
  {
   "cell_type": "code",
   "execution_count": 3,
   "metadata": {},
   "outputs": [
    {
     "name": "stdout",
     "output_type": "stream",
     "text": [
      "请输入源数据文件地址：C:\\Users\\Administrator\\Desktop\\西安市2019年第12批\\\n",
      "请输入批数：2019年第12批\n"
     ]
    }
   ],
   "source": [
    "path = input('请输入源数据文件地址：')\n",
    "ps = input('请输入批数：')\n",
    "for i in os.listdir(path):\n",
    "    if os.path.splitext(i)[1] == '.xlsx':\n",
    "        \n",
    "        path1 = path + i\n",
    "        data = pd.read_excel(path1)\n",
    "        \n",
    "        nl = ''\n",
    "        name = i[:len(i) - 5]\n",
    "        df = data['Unnamed: 1']\n",
    "        df = df.iloc[2:]\n",
    "        lh = data.iloc[0,1]\n",
    "        f1 = '#'\n",
    "        lzh = str(lh) + f1\n",
    "        lc = data.iloc[0,3]\n",
    "        f2 = 'F'\n",
    "        lcs = str(lc) + f2\n",
    "        \n",
    "        if int(lh) > 9:\n",
    "            dy = df.str.get(3).max()\n",
    "            dy = int(dy)\n",
    "        else:\n",
    "            dy = df.str.get(2).max()\n",
    "            dy = int(dy)\n",
    "\n",
    "        hs = df.str.get(-1).max()\n",
    "        \n",
    "        if int(lc) > 33:\n",
    "            wylx = '超高'\n",
    "        elif int(lc) > 18:\n",
    "            wylx = '高层'\n",
    "        elif int(lc) > 12:\n",
    "            wylx = '小高'\n",
    "        elif int(lc) > 6:\n",
    "            wylx = '洋房'\n",
    "        elif int(lc) > 0:\n",
    "            wylx = '别墅'\n",
    "             \n",
    "        f3 = 'T'\n",
    "        f4 = str(1)\n",
    "        f5 = str(2)\n",
    "        if int(lc) < 13:\n",
    "            thb =  f4 + f3 + hs\n",
    "        elif int(lc) > 12:\n",
    "            thb =  f5 + f3 + hs\n",
    "        #thb = f3 + hs\n",
    "        dd = data['Unnamed: 2']\n",
    "        dd = dd.iloc[2:]\n",
    "        dd = dd.astype(int)\n",
    "        mj = dict(dd.value_counts())\n",
    "        mj = list(mj.keys())\n",
    "        mj = mj[0:3]\n",
    "        mj = '㎡、'.join(map(str,mj))\n",
    "        m = '㎡'\n",
    "        mjd = mj + m\n",
    "        \n",
    "        dc = data['Unnamed: 4']\n",
    "        dc = dc.iloc[2:]\n",
    "        zj = dc.sum()\n",
    "        zj = round(zj,2)\n",
    "        \n",
    "        dr = data['Unnamed: 2']\n",
    "        dr = dr.iloc[2:]\n",
    "        zjm = dr.sum()\n",
    "        zjm = round(zjm,2)\n",
    "        jj = zj / zjm\n",
    "        \n",
    "        dl = data['Unnamed: 3']\n",
    "        dl = dl.iloc[2:]\n",
    "        mi = round(dl.min())\n",
    "        ma = round(dl.max())\n",
    "        a = [mi,ma]\n",
    "        jgqj =  '-'.join(map(str,a))\n",
    "        zhs = dl.count()\n",
    "        \n",
    "        jg = [time,ps,name,nl,nl,nl,nl,nl,wylx,lzh,nl,dy,lcs,thb,mjd,zj,zjm,jj,nl,nl,jgqj,zhs]\n",
    "        ws.append(jg)\n",
    "        wb.save(\"C:\\\\Users\\\\Administrator\\\\Desktop\\\\价格公示西安市\" + ps + \".xlsx\")"
   ]
  },
  {
   "cell_type": "code",
   "execution_count": null,
   "metadata": {},
   "outputs": [],
   "source": [
    "C:\\Users\\Administrator\\Desktop\\西安市2019年第12批\\"
   ]
  },
  {
   "cell_type": "code",
   "execution_count": null,
   "metadata": {},
   "outputs": [],
   "source": [
    "2019年第12批"
   ]
  }
 ],
 "metadata": {
  "kernelspec": {
   "display_name": "Python 3",
   "language": "python",
   "name": "python3"
  },
  "language_info": {
   "codemirror_mode": {
    "name": "ipython",
    "version": 3
   },
   "file_extension": ".py",
   "mimetype": "text/x-python",
   "name": "python",
   "nbconvert_exporter": "python",
   "pygments_lexer": "ipython3",
   "version": "3.7.0"
  }
 },
 "nbformat": 4,
 "nbformat_minor": 2
}
