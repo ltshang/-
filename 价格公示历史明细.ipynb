{
 "cells": [
  {
   "cell_type": "code",
   "execution_count": 1,
   "metadata": {},
   "outputs": [],
   "source": [
    "#环境准备\n",
    "import pandas as pd\n",
    "import requests\n",
    "from urllib.parse import urlencode\n",
    "from bs4 import BeautifulSoup\n",
    "import re\n",
    "headers ={ 'User-Agent': 'Mozilla/5.0 (Macintosh; Intel Mac OS X 10_11_4) AppleWebKit/537.36 (KHTML, like Gecko) Chrome/52.0.2743.116 Safari/537.36'}\n",
    "print('环境准备完成')"
   ]
  },
  {
   "cell_type": "code",
   "execution_count": 2,
   "metadata": {},
   "outputs": [],
   "source": [
    "#相关参数容器\n",
    "data_list = []\n",
    "name_list = []\n",
    "buildNo_list = []\n",
    "time_list = []\n",
    "sort_list = []\n",
    "#获取项目总表信息\n",
    "def get_tablename(URL):\n",
    "    response = requests.get(URL, headers=headers)\n",
    "    soup = BeautifulSoup(response.text, 'lxml')\n",
    "\n",
    "    for idx, tr in enumerate(soup.find_all('tbody')):\n",
    "        tds = tr.find_all('td')\n",
    "        for i in range(0,len(tds),5):\n",
    "            data_list.append({\n",
    "                '1项目名称': str(tds[i].contents[0])[68:-4],\n",
    "                '2所属批次': tds[i+1].contents[0],\n",
    "                '3公示时间': tds[i+2].contents[0],\n",
    "                '4申报楼栋': tds[i+3].contents[0],\n",
    "                '5总层数': tds[i+4].contents[0]\n",
    "            })\n",
    "            name = str(tds[i].contents[0])[18:50]\n",
    "            name_list.append(name)\n",
    "            no = tds[i+3].contents[0]\n",
    "            buildNo_list.append(no)\n",
    "            time = tds[i+2].contents[0]\n",
    "            time_list.append(time)\n",
    "            sort = tds[i+1].contents[0]\n",
    "            sort_list.append(sort)"
   ]
  },
  {
   "cell_type": "code",
   "execution_count": 3,
   "metadata": {},
   "outputs": [],
   "source": [
    "#循环获取41页相目信息\n",
    "url = 'http://117.39.29.75:8085/pricePublic/house/public/index?sort=&type=0&decprojectName=%25%25&page='\n",
    "x = 1\n",
    "while x < 42:\n",
    "    URL = url + str(x)\n",
    "    get_tablename(URL)\n",
    "    x = x + 1"
   ]
  },
  {
   "cell_type": "code",
   "execution_count": 4,
   "metadata": {},
   "outputs": [],
   "source": [
    "#保存项目总表\n",
    "data_list1 = pd.DataFrame(data_list)\n",
    "data_list1[['项目名称','所属批次','公示时间','申报楼栋','总层数']] = data_list1[['1项目名称','2所属批次','3公示时间','4申报楼栋','5总层数']]\n",
    "data_list1 = data_list1.iloc[:,5:]\n",
    "data_list1.to_excel('C:\\\\Users\\\\l\\\\Desktop\\\\项目总表.xlsx',encoding = \"gbk\",index = False)"
   ]
  },
  {
   "cell_type": "code",
   "execution_count": 6,
   "metadata": {},
   "outputs": [],
   "source": [
    "#获取明细信息\n",
    "alldata_list = []\n",
    "def get_tabledata(ID,NO):\n",
    "    params = {\n",
    "                'id': ID, #参数一\n",
    "                'page': '1',\n",
    "                'size': '10000',\n",
    "                'sort': '',\n",
    "                'buildNo': NO,#参数二\n",
    "                }\n",
    "    url = 'http://117.39.29.75:8085/pricePublic/house/public/price?' + urlencode(params)\n",
    "    #print(url)\n",
    "    response = requests.get(url, headers=headers)\n",
    "    pat = '<td>(.*?)</td>'\n",
    "    pat1 = '<span style=\"display:inline-block;\">(.*?)</span></td>'\n",
    "    pat2 = '<span>(.*?)</span>'\n",
    "    rst = re.compile(pat).findall(response.text)\n",
    "    rst1 = re.compile(pat1).findall(response.text)\n",
    "    rst2 = re.compile(pat2).findall(response.text)\n",
    "    str = rst2[0]\n",
    "    result = re.search('(.*?)号楼 一房一价信息,层数：(\\d+)', str)\n",
    "    lz = result.group(1)\n",
    "    lc = result.group(2)\n",
    "    \n",
    "    del rst[0]\n",
    "\n",
    "    for y in range(0,len(rst),5):\n",
    "        alldata_list.append({\n",
    "            '项目名称':rst1[0],\n",
    "            '所属批次':sort_list[z],\n",
    "            '公示时间':time_list[z],\n",
    "            '项目地址':rst1[2],\n",
    "            '装修标准':rst1[1],\n",
    "            '楼幢信息':lz,\n",
    "            '楼层信息':lc,\n",
    "            '房间号': rst[y+1],\n",
    "            '建筑面积': rst[y+2],\n",
    "            '房屋均价': rst[y+3],\n",
    "            '房屋总价': rst[y+4]\n",
    "        })"
   ]
  },
  {
   "cell_type": "code",
   "execution_count": 7,
   "metadata": {},
   "outputs": [],
   "source": [
    "#获取前200个项目明细数据\n",
    "z = 0\n",
    "while z < 200:\n",
    "    ID = name_list[z]\n",
    "    str = buildNo_list[z]\n",
    "    m = str.replace(\"、\",\",\")\n",
    "    m = m.replace(\"#\",\"\")\n",
    "    m = m.split(',')\n",
    "    for NO in m:\n",
    "        get_tabledata(ID,NO)\n",
    "    z = z + 1"
   ]
  },
  {
   "cell_type": "code",
   "execution_count": 8,
   "metadata": {},
   "outputs": [],
   "source": [
    "#保存前200个项目明细数据\n",
    "alldata_list = pd.DataFrame(alldata_list)\n",
    "alldata_list.to_excel('C:\\\\Users\\\\l\\\\Desktop\\\\项目明细200.xlsx',encoding = \"gbk\",index = False)"
   ]
  },
  {
   "cell_type": "code",
   "execution_count": null,
   "metadata": {},
   "outputs": [],
   "source": [
    "#获取200-399个项目明细数据\n",
    "z = 200\n",
    "while z < 400:\n",
    "    ID = name_list[z]\n",
    "    str = buildNo_list[z]\n",
    "    m = str.replace(\"、\",\",\")\n",
    "    m = m.replace(\"#\",\"\")\n",
    "    m = m.split(',')\n",
    "    for NO in m:\n",
    "        get_tabledata(ID,NO)\n",
    "    z = z + 1"
   ]
  },
  {
   "cell_type": "code",
   "execution_count": null,
   "metadata": {},
   "outputs": [],
   "source": [
    "#保存200-399个项目明细数据\n",
    "alldata_list = pd.DataFrame(alldata_list)\n",
    "alldata_list.to_excel('C:\\\\Users\\\\l\\\\Desktop\\\\项目明细400.xlsx',encoding = \"gbk\",index = False)"
   ]
  },
  {
   "cell_type": "code",
   "execution_count": null,
   "metadata": {},
   "outputs": [],
   "source": [
    "#获取400-615个项目明细数据\n",
    "z = 400\n",
    "while z < 615:\n",
    "    ID = name_list[z]\n",
    "    str = buildNo_list[z]\n",
    "    m = str.replace(\"、\",\",\")\n",
    "    m = m.replace(\"#\",\"\")\n",
    "    m = m.split(',')\n",
    "    for NO in m:\n",
    "        get_tabledata(ID,NO)\n",
    "    z = z + 1"
   ]
  },
  {
   "cell_type": "code",
   "execution_count": null,
   "metadata": {},
   "outputs": [],
   "source": [
    "#保存400-615个项目明细数据\n",
    "alldata_list = pd.DataFrame(alldata_list)\n",
    "alldata_list.to_excel('C:\\\\Users\\\\l\\\\Desktop\\\\项目明细616.xlsx',encoding = \"gbk\",index = False)"
   ]
  },
  {
   "cell_type": "code",
   "execution_count": null,
   "metadata": {},
   "outputs": [],
   "source": []
  }
 ],
 "metadata": {
  "kernelspec": {
   "display_name": "Python 3",
   "language": "python",
   "name": "python3"
  },
  "language_info": {
   "codemirror_mode": {
    "name": "ipython",
    "version": 3
   },
   "file_extension": ".py",
   "mimetype": "text/x-python",
   "name": "python",
   "nbconvert_exporter": "python",
   "pygments_lexer": "ipython3",
   "version": "3.7.0"
  }
 },
 "nbformat": 4,
 "nbformat_minor": 2
}
