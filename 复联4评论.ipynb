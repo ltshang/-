{
 "cells": [
  {
   "cell_type": "code",
   "execution_count": 1,
   "metadata": {},
   "outputs": [
    {
     "name": "stdout",
     "output_type": "stream",
     "text": [
      "导入成功\n"
     ]
    }
   ],
   "source": [
    "import requests\n",
    "from bs4 import BeautifulSoup\n",
    "\n",
    "import numpy as np\n",
    "import pandas as pd\n",
    "import matplotlib.pyplot as plt\n",
    "%matplotlib inline\n",
    "\n",
    "import warnings\n",
    "warnings.filterwarnings('ignore') \n",
    "# 不发出警告\n",
    "\n",
    "print('导入成功')"
   ]
  },
  {
   "cell_type": "code",
   "execution_count": 2,
   "metadata": {},
   "outputs": [
    {
     "name": "stdout",
     "output_type": "stream",
     "text": [
      "{'评论者': 'Tel', '评分': 40, '评论时间': '2019-04-24', '有用数量': 18930, '评论内容': '我是一个90后，我曾经很羡慕“上一代人”：40年前的观众，他们的影院里有星战正传三部曲的落幕；20年前的观众，能在影院里看到指环王系列的终章。影迷们的悲欢并不相通，但现在我们也有了共同的记忆：漫威电影宇宙。谢谢你，《复仇者联盟》。'}\n"
     ]
    }
   ],
   "source": [
    "# 网页数据采集测试\n",
    "\n",
    "u = 'https://movie.douban.com/subject/26100958/comments?start=0&limit=20&sort=new_score&status=P'\n",
    "r = requests.get(url = u)\n",
    "r.encoding = 'utf-8'\n",
    "    # 访问网页\n",
    "soup = BeautifulSoup(r.text)\n",
    "    # 解析网页\n",
    "infor_lst = soup.find('div',id=\"comments\").find_all('div',class_=\"comment-item\")\n",
    "    # 获取所有招聘标签div\n",
    "dic = {}\n",
    "for infor in infor_lst[:1]:\n",
    "    dic['评论者'] = infor.find('span',class_=\"comment-info\").find('a').text\n",
    "    dic['评分'] = int(infor.find('span',class_=\"comment-info\").find_all('span')[1]['class'][0][-2:])\n",
    "    dic['评论时间'] = infor.find('span',class_=\"comment-time\").text.replace(' ','').replace('\\n','')\n",
    "    dic['有用数量'] = int(infor.find('span',class_=\"votes\").text)\n",
    "    dic['评论内容'] = infor.find('p').text.replace('\\n','')\n",
    "\n",
    "print(dic)"
   ]
  },
  {
   "cell_type": "code",
   "execution_count": 3,
   "metadata": {},
   "outputs": [
    {
     "data": {
      "text/plain": [
       "[{'评论者': 'Tel',\n",
       "  '评分': 40,\n",
       "  '评论时间': '2019-04-24',\n",
       "  '有用数量': 18930,\n",
       "  '评论内容': '我是一个90后，我曾经很羡慕“上一代人”：40年前的观众，他们的影院里有星战正传三部曲的落幕；20年前的观众，能在影院里看到指环王系列的终章。影迷们的悲欢并不相通，但现在我们也有了共同的记忆：漫威电影宇宙。谢谢你，《复仇者联盟》。'},\n",
       " {'评论者': '深夜的阿斯伯格',\n",
       "  '评分': 40,\n",
       "  '评论时间': '2019-04-24',\n",
       "  '有用数量': 6202,\n",
       "  '评论内容': '对某人而言这就叫有始有终吧，这个时代的星战（90后终于有长达十年的情怀和回忆了）'}]"
      ]
     },
     "execution_count": 3,
     "metadata": {},
     "output_type": "execute_result"
    }
   ],
   "source": [
    "# 构建网页信息获取函数\n",
    "\n",
    "def get_data(urli):\n",
    "    try:\n",
    "        ri = requests.get(url = u)\n",
    "        ri.encoding = 'utf-8'\n",
    "            # 访问网页\n",
    "        soupi = BeautifulSoup(ri.text)\n",
    "            # 解析网页\n",
    "        infor_lst = soupi.find('div',id=\"comments\").find_all('div',class_=\"comment-item\")\n",
    "            # 获取所有招聘标签div\n",
    "        datalsti = []\n",
    "        for infor in infor_lst[:]:\n",
    "            dic = {}\n",
    "            dic['评论者'] = infor.find('span',class_=\"comment-info\").find('a').text\n",
    "            dic['评分'] = int(infor.find('span',class_=\"comment-info\").find_all('span')[1]['class'][0][-2:])\n",
    "            dic['评论时间'] = infor.find('span',class_=\"comment-time\").text.replace(' ','').replace('\\n','')\n",
    "            dic['有用数量'] = int(infor.find('span',class_=\"votes\").text)\n",
    "            dic['评论内容'] = infor.find('p').text.replace('\\n','')\n",
    "            datalsti.append(dic)\n",
    "        return datalsti\n",
    "    except:\n",
    "        return []\n",
    "\n",
    "u = 'https://movie.douban.com/subject/26100958/comments?start=0&limit=20&sort=new_score&status=P'\n",
    "get_data(u)[:2]"
   ]
  },
  {
   "cell_type": "code",
   "execution_count": 4,
   "metadata": {},
   "outputs": [
    {
     "data": {
      "text/plain": [
       "['https://movie.douban.com/subject/26100958/comments?start=0&limit=20&sort=new_score&status=P',\n",
       " 'https://movie.douban.com/subject/26100958/comments?start=20&limit=20&sort=new_score&status=P']"
      ]
     },
     "execution_count": 4,
     "metadata": {},
     "output_type": "execute_result"
    }
   ],
   "source": [
    "# 构建获取页面url函数\n",
    "\n",
    "def get_urls(n):\n",
    "    urllst = []\n",
    "    for i in range(n):\n",
    "        urllst.append('https://movie.douban.com/subject/26100958/comments?start=%i&limit=20&sort=new_score&status=P' % (i*20))\n",
    "    return urllst\n",
    "\n",
    "urllsts = get_urls(50)\n",
    "urllsts[:2]"
   ]
  },
  {
   "cell_type": "code",
   "execution_count": 5,
   "metadata": {},
   "outputs": [
    {
     "name": "stdout",
     "output_type": "stream",
     "text": [
      "成功获取20条数据\n",
      "成功获取40条数据\n",
      "成功获取60条数据\n",
      "成功获取80条数据\n",
      "成功获取100条数据\n",
      "成功获取120条数据\n",
      "成功获取140条数据\n",
      "成功获取160条数据\n",
      "成功获取180条数据\n",
      "成功获取200条数据\n",
      "成功获取220条数据\n",
      "成功获取240条数据\n",
      "成功获取260条数据\n",
      "成功获取280条数据\n",
      "成功获取300条数据\n",
      "成功获取320条数据\n",
      "成功获取340条数据\n",
      "成功获取360条数据\n",
      "成功获取380条数据\n",
      "成功获取400条数据\n",
      "成功获取420条数据\n",
      "成功获取440条数据\n",
      "成功获取460条数据\n",
      "成功获取480条数据\n",
      "成功获取500条数据\n",
      "成功获取520条数据\n",
      "成功获取540条数据\n",
      "成功获取560条数据\n",
      "成功获取580条数据\n",
      "成功获取600条数据\n",
      "成功获取620条数据\n",
      "成功获取640条数据\n",
      "成功获取660条数据\n",
      "成功获取680条数据\n",
      "成功获取700条数据\n",
      "成功获取720条数据\n",
      "成功获取740条数据\n",
      "成功获取760条数据\n",
      "成功获取780条数据\n",
      "成功获取800条数据\n",
      "成功获取820条数据\n",
      "成功获取840条数据\n",
      "成功获取860条数据\n",
      "成功获取880条数据\n",
      "成功获取900条数据\n",
      "成功获取920条数据\n",
      "成功获取940条数据\n",
      "成功获取960条数据\n",
      "成功获取980条数据\n",
      "成功获取1000条数据\n"
     ]
    },
    {
     "data": {
      "text/plain": [
       "[{'评论者': 'Tel',\n",
       "  '评分': 40,\n",
       "  '评论时间': '2019-04-24',\n",
       "  '有用数量': 18930,\n",
       "  '评论内容': '我是一个90后，我曾经很羡慕“上一代人”：40年前的观众，他们的影院里有星战正传三部曲的落幕；20年前的观众，能在影院里看到指环王系列的终章。影迷们的悲欢并不相通，但现在我们也有了共同的记忆：漫威电影宇宙。谢谢你，《复仇者联盟》。'},\n",
       " {'评论者': '深夜的阿斯伯格',\n",
       "  '评分': 40,\n",
       "  '评论时间': '2019-04-24',\n",
       "  '有用数量': 6202,\n",
       "  '评论内容': '对某人而言这就叫有始有终吧，这个时代的星战（90后终于有长达十年的情怀和回忆了）'}]"
      ]
     },
     "execution_count": 5,
     "metadata": {},
     "output_type": "execute_result"
    }
   ],
   "source": [
    "# 批量获取数据\n",
    "\n",
    "datalst = []\n",
    "n = 1\n",
    "for u in urllsts:\n",
    "    datalst.extend(get_data(u))\n",
    "    print('成功获取%i条数据' % (n*20))\n",
    "    n += 1\n",
    "\n",
    "datalst[:2]"
   ]
  },
  {
   "cell_type": "code",
   "execution_count": 6,
   "metadata": {},
   "outputs": [
    {
     "data": {
      "text/html": [
       "<div>\n",
       "<style scoped>\n",
       "    .dataframe tbody tr th:only-of-type {\n",
       "        vertical-align: middle;\n",
       "    }\n",
       "\n",
       "    .dataframe tbody tr th {\n",
       "        vertical-align: top;\n",
       "    }\n",
       "\n",
       "    .dataframe thead th {\n",
       "        text-align: right;\n",
       "    }\n",
       "</style>\n",
       "<table border=\"1\" class=\"dataframe\">\n",
       "  <thead>\n",
       "    <tr style=\"text-align: right;\">\n",
       "      <th></th>\n",
       "      <th>有用数量</th>\n",
       "      <th>评分</th>\n",
       "      <th>评论内容</th>\n",
       "      <th>评论时间</th>\n",
       "      <th>评论者</th>\n",
       "    </tr>\n",
       "  </thead>\n",
       "  <tbody>\n",
       "    <tr>\n",
       "      <th>0</th>\n",
       "      <td>18930</td>\n",
       "      <td>40</td>\n",
       "      <td>我是一个90后，我曾经很羡慕“上一代人”：40年前的观众，他们的影院里有星战正传三部曲的落幕...</td>\n",
       "      <td>2019-04-24</td>\n",
       "      <td>Tel</td>\n",
       "    </tr>\n",
       "    <tr>\n",
       "      <th>1</th>\n",
       "      <td>6202</td>\n",
       "      <td>40</td>\n",
       "      <td>对某人而言这就叫有始有终吧，这个时代的星战（90后终于有长达十年的情怀和回忆了）</td>\n",
       "      <td>2019-04-24</td>\n",
       "      <td>深夜的阿斯伯格</td>\n",
       "    </tr>\n",
       "    <tr>\n",
       "      <th>2</th>\n",
       "      <td>5906</td>\n",
       "      <td>40</td>\n",
       "      <td>用三个小时的时间，与大家告别。是集结，是重聚，是告别，是牺牲。作为系列的最终篇，确实已经努力...</td>\n",
       "      <td>2019-04-24</td>\n",
       "      <td>桃桃林林</td>\n",
       "    </tr>\n",
       "    <tr>\n",
       "      <th>3</th>\n",
       "      <td>34711</td>\n",
       "      <td>50</td>\n",
       "      <td>如果你不喜欢这部电影，说明他不是为你准备的，故事的终章是为读过故事的人准备的</td>\n",
       "      <td>2019-04-24</td>\n",
       "      <td>棠枫海</td>\n",
       "    </tr>\n",
       "    <tr>\n",
       "      <th>4</th>\n",
       "      <td>14841</td>\n",
       "      <td>50</td>\n",
       "      <td>托尼说好要回归家庭、陪伴家人，可最终还是选择了重出江湖，因为责任和使命，因为“我是钢铁侠”。...</td>\n",
       "      <td>2019-04-24</td>\n",
       "      <td>凌睿</td>\n",
       "    </tr>\n",
       "    <tr>\n",
       "      <th>5</th>\n",
       "      <td>5613</td>\n",
       "      <td>40</td>\n",
       "      <td>搞不懂惊队吹这么久是为什么啥……感觉就是打了个酱油🙄🙄🙄</td>\n",
       "      <td>2019-04-24</td>\n",
       "      <td>sunmmr丶sea</td>\n",
       "    </tr>\n",
       "    <tr>\n",
       "      <th>6</th>\n",
       "      <td>13229</td>\n",
       "      <td>50</td>\n",
       "      <td>钢铁侠成为了美队，美队活成了钢铁侠。</td>\n",
       "      <td>2019-04-24</td>\n",
       "      <td>Rafe</td>\n",
       "    </tr>\n",
       "    <tr>\n",
       "      <th>7</th>\n",
       "      <td>13036</td>\n",
       "      <td>50</td>\n",
       "      <td>献给我人生中最美好的十一年。谢谢你，漫威，谢谢你让我的青春有了一个最完美的结局</td>\n",
       "      <td>2019-04-24</td>\n",
       "      <td>。</td>\n",
       "    </tr>\n",
       "    <tr>\n",
       "      <th>8</th>\n",
       "      <td>14169</td>\n",
       "      <td>30</td>\n",
       "      <td>不打感情分也就合格水准，通篇流水账观感还不如第三部，虽然我一直认为这类片无所谓剧透，不过为了...</td>\n",
       "      <td>2019-04-24</td>\n",
       "      <td>小轨</td>\n",
       "    </tr>\n",
       "    <tr>\n",
       "      <th>9</th>\n",
       "      <td>11930</td>\n",
       "      <td>50</td>\n",
       "      <td>谁能想到是一只老鼠拯救了地球呢？</td>\n",
       "      <td>2019-04-24</td>\n",
       "      <td>KarSa</td>\n",
       "    </tr>\n",
       "  </tbody>\n",
       "</table>\n",
       "</div>"
      ],
      "text/plain": [
       "    有用数量  评分                                               评论内容        评论时间  \\\n",
       "0  18930  40  我是一个90后，我曾经很羡慕“上一代人”：40年前的观众，他们的影院里有星战正传三部曲的落幕...  2019-04-24   \n",
       "1   6202  40           对某人而言这就叫有始有终吧，这个时代的星战（90后终于有长达十年的情怀和回忆了）  2019-04-24   \n",
       "2   5906  40  用三个小时的时间，与大家告别。是集结，是重聚，是告别，是牺牲。作为系列的最终篇，确实已经努力...  2019-04-24   \n",
       "3  34711  50             如果你不喜欢这部电影，说明他不是为你准备的，故事的终章是为读过故事的人准备的  2019-04-24   \n",
       "4  14841  50  托尼说好要回归家庭、陪伴家人，可最终还是选择了重出江湖，因为责任和使命，因为“我是钢铁侠”。...  2019-04-24   \n",
       "5   5613  40                       搞不懂惊队吹这么久是为什么啥……感觉就是打了个酱油🙄🙄🙄  2019-04-24   \n",
       "6  13229  50                                 钢铁侠成为了美队，美队活成了钢铁侠。  2019-04-24   \n",
       "7  13036  50            献给我人生中最美好的十一年。谢谢你，漫威，谢谢你让我的青春有了一个最完美的结局  2019-04-24   \n",
       "8  14169  30  不打感情分也就合格水准，通篇流水账观感还不如第三部，虽然我一直认为这类片无所谓剧透，不过为了...  2019-04-24   \n",
       "9  11930  50                                   谁能想到是一只老鼠拯救了地球呢？  2019-04-24   \n",
       "\n",
       "          评论者  \n",
       "0         Tel  \n",
       "1     深夜的阿斯伯格  \n",
       "2        桃桃林林  \n",
       "3         棠枫海  \n",
       "4          凌睿  \n",
       "5  sunmmr丶sea  \n",
       "6        Rafe  \n",
       "7           。  \n",
       "8          小轨  \n",
       "9       KarSa  "
      ]
     },
     "execution_count": 6,
     "metadata": {},
     "output_type": "execute_result"
    }
   ],
   "source": [
    "# 数据格式转换\n",
    "\n",
    "df = pd.DataFrame(datalst)\n",
    "df.iloc[:10]"
   ]
  },
  {
   "cell_type": "code",
   "execution_count": 7,
   "metadata": {},
   "outputs": [
    {
     "data": {
      "text/html": [
       "<div>\n",
       "<style scoped>\n",
       "    .dataframe tbody tr th:only-of-type {\n",
       "        vertical-align: middle;\n",
       "    }\n",
       "\n",
       "    .dataframe tbody tr th {\n",
       "        vertical-align: top;\n",
       "    }\n",
       "\n",
       "    .dataframe thead th {\n",
       "        text-align: right;\n",
       "    }\n",
       "</style>\n",
       "<table border=\"1\" class=\"dataframe\">\n",
       "  <thead>\n",
       "    <tr style=\"text-align: right;\">\n",
       "      <th></th>\n",
       "      <th>有用数量</th>\n",
       "      <th>评分</th>\n",
       "      <th>评论内容</th>\n",
       "      <th>评论时间</th>\n",
       "      <th>评论者</th>\n",
       "      <th>评论字数</th>\n",
       "    </tr>\n",
       "  </thead>\n",
       "  <tbody>\n",
       "    <tr>\n",
       "      <th>0</th>\n",
       "      <td>18930</td>\n",
       "      <td>40</td>\n",
       "      <td>我是一个90后，我曾经很羡慕“上一代人”：40年前的观众，他们的影院里有星战正传三部曲的落幕...</td>\n",
       "      <td>2019-04-24</td>\n",
       "      <td>Tel</td>\n",
       "      <td>115</td>\n",
       "    </tr>\n",
       "    <tr>\n",
       "      <th>1</th>\n",
       "      <td>6202</td>\n",
       "      <td>40</td>\n",
       "      <td>对某人而言这就叫有始有终吧，这个时代的星战（90后终于有长达十年的情怀和回忆了）</td>\n",
       "      <td>2019-04-24</td>\n",
       "      <td>深夜的阿斯伯格</td>\n",
       "      <td>40</td>\n",
       "    </tr>\n",
       "    <tr>\n",
       "      <th>2</th>\n",
       "      <td>5906</td>\n",
       "      <td>40</td>\n",
       "      <td>用三个小时的时间，与大家告别。是集结，是重聚，是告别，是牺牲。作为系列的最终篇，确实已经努力...</td>\n",
       "      <td>2019-04-24</td>\n",
       "      <td>桃桃林林</td>\n",
       "      <td>80</td>\n",
       "    </tr>\n",
       "    <tr>\n",
       "      <th>3</th>\n",
       "      <td>34711</td>\n",
       "      <td>50</td>\n",
       "      <td>如果你不喜欢这部电影，说明他不是为你准备的，故事的终章是为读过故事的人准备的</td>\n",
       "      <td>2019-04-24</td>\n",
       "      <td>棠枫海</td>\n",
       "      <td>38</td>\n",
       "    </tr>\n",
       "    <tr>\n",
       "      <th>4</th>\n",
       "      <td>14841</td>\n",
       "      <td>50</td>\n",
       "      <td>托尼说好要回归家庭、陪伴家人，可最终还是选择了重出江湖，因为责任和使命，因为“我是钢铁侠”。...</td>\n",
       "      <td>2019-04-24</td>\n",
       "      <td>凌睿</td>\n",
       "      <td>335</td>\n",
       "    </tr>\n",
       "  </tbody>\n",
       "</table>\n",
       "</div>"
      ],
      "text/plain": [
       "    有用数量  评分                                               评论内容        评论时间  \\\n",
       "0  18930  40  我是一个90后，我曾经很羡慕“上一代人”：40年前的观众，他们的影院里有星战正传三部曲的落幕...  2019-04-24   \n",
       "1   6202  40           对某人而言这就叫有始有终吧，这个时代的星战（90后终于有长达十年的情怀和回忆了）  2019-04-24   \n",
       "2   5906  40  用三个小时的时间，与大家告别。是集结，是重聚，是告别，是牺牲。作为系列的最终篇，确实已经努力...  2019-04-24   \n",
       "3  34711  50             如果你不喜欢这部电影，说明他不是为你准备的，故事的终章是为读过故事的人准备的  2019-04-24   \n",
       "4  14841  50  托尼说好要回归家庭、陪伴家人，可最终还是选择了重出江湖，因为责任和使命，因为“我是钢铁侠”。...  2019-04-24   \n",
       "\n",
       "       评论者  评论字数  \n",
       "0      Tel   115  \n",
       "1  深夜的阿斯伯格    40  \n",
       "2     桃桃林林    80  \n",
       "3      棠枫海    38  \n",
       "4       凌睿   335  "
      ]
     },
     "execution_count": 7,
     "metadata": {},
     "output_type": "execute_result"
    },
    {
     "data": {
      "image/png": "[encoded data removed]",
      "text/plain": [
       "<Figure size 864x360 with 1 Axes>"
      ]
     },
     "metadata": {
      "needs_background": "light"
     },
     "output_type": "display_data"
    }
   ],
   "source": [
    "# 评论字数数据分布\n",
    "\n",
    "df['评论字数'] = df['评论内容'].str.len()\n",
    "\n",
    "plt.figure(figsize = (12,5))\n",
    "plt.title('评论字数数据分布')\n",
    "df['评论字数'].hist(bins = 20,edgecolor = 'white')\n",
    "plt.grid(linestyle='--')\n",
    "\n",
    "df.head()"
   ]
  },
  {
   "cell_type": "code",
   "execution_count": 8,
   "metadata": {},
   "outputs": [
    {
     "data": {
      "image/png": "[encoded data removed]",
      "text/plain": [
       "<Figure size 864x360 with 1 Axes>"
      ]
     },
     "metadata": {
      "needs_background": "light"
     },
     "output_type": "display_data"
    }
   ],
   "source": [
    "# 有用数量数据分布\n",
    "\n",
    "plt.figure(figsize = (12,5))\n",
    "plt.title('有用数量数据分布')\n",
    "df['有用数量'].hist(bins = 50,edgecolor = 'white')\n",
    "plt.grid(linestyle='--')"
   ]
  },
  {
   "cell_type": "code",
   "execution_count": 9,
   "metadata": {},
   "outputs": [
    {
     "data": {
      "text/html": [
       "<div>\n",
       "<style scoped>\n",
       "    .dataframe tbody tr th:only-of-type {\n",
       "        vertical-align: middle;\n",
       "    }\n",
       "\n",
       "    .dataframe tbody tr th {\n",
       "        vertical-align: top;\n",
       "    }\n",
       "\n",
       "    .dataframe thead th {\n",
       "        text-align: right;\n",
       "    }\n",
       "</style>\n",
       "<table border=\"1\" class=\"dataframe\">\n",
       "  <thead>\n",
       "    <tr style=\"text-align: right;\">\n",
       "      <th></th>\n",
       "      <th>有用数量</th>\n",
       "      <th>评分</th>\n",
       "      <th>评论内容</th>\n",
       "      <th>评论时间</th>\n",
       "      <th>评论者</th>\n",
       "      <th>评论字数</th>\n",
       "    </tr>\n",
       "  </thead>\n",
       "  <tbody>\n",
       "    <tr>\n",
       "      <th>3</th>\n",
       "      <td>34711</td>\n",
       "      <td>50</td>\n",
       "      <td>如果你不喜欢这部电影，说明他不是为你准备的，故事的终章是为读过故事的人准备的</td>\n",
       "      <td>2019-04-24</td>\n",
       "      <td>棠枫海</td>\n",
       "      <td>38</td>\n",
       "    </tr>\n",
       "    <tr>\n",
       "      <th>0</th>\n",
       "      <td>18930</td>\n",
       "      <td>40</td>\n",
       "      <td>我是一个90后，我曾经很羡慕“上一代人”：40年前的观众，他们的影院里有星战正传三部曲的落幕...</td>\n",
       "      <td>2019-04-24</td>\n",
       "      <td>Tel</td>\n",
       "      <td>115</td>\n",
       "    </tr>\n",
       "    <tr>\n",
       "      <th>4</th>\n",
       "      <td>14841</td>\n",
       "      <td>50</td>\n",
       "      <td>托尼说好要回归家庭、陪伴家人，可最终还是选择了重出江湖，因为责任和使命，因为“我是钢铁侠”。...</td>\n",
       "      <td>2019-04-24</td>\n",
       "      <td>凌睿</td>\n",
       "      <td>335</td>\n",
       "    </tr>\n",
       "    <tr>\n",
       "      <th>8</th>\n",
       "      <td>14169</td>\n",
       "      <td>30</td>\n",
       "      <td>不打感情分也就合格水准，通篇流水账观感还不如第三部，虽然我一直认为这类片无所谓剧透，不过为了...</td>\n",
       "      <td>2019-04-24</td>\n",
       "      <td>小轨</td>\n",
       "      <td>128</td>\n",
       "    </tr>\n",
       "    <tr>\n",
       "      <th>6</th>\n",
       "      <td>13229</td>\n",
       "      <td>50</td>\n",
       "      <td>钢铁侠成为了美队，美队活成了钢铁侠。</td>\n",
       "      <td>2019-04-24</td>\n",
       "      <td>Rafe</td>\n",
       "      <td>18</td>\n",
       "    </tr>\n",
       "    <tr>\n",
       "      <th>7</th>\n",
       "      <td>13036</td>\n",
       "      <td>50</td>\n",
       "      <td>献给我人生中最美好的十一年。谢谢你，漫威，谢谢你让我的青春有了一个最完美的结局</td>\n",
       "      <td>2019-04-24</td>\n",
       "      <td>。</td>\n",
       "      <td>39</td>\n",
       "    </tr>\n",
       "    <tr>\n",
       "      <th>9</th>\n",
       "      <td>11930</td>\n",
       "      <td>50</td>\n",
       "      <td>谁能想到是一只老鼠拯救了地球呢？</td>\n",
       "      <td>2019-04-24</td>\n",
       "      <td>KarSa</td>\n",
       "      <td>16</td>\n",
       "    </tr>\n",
       "    <tr>\n",
       "      <th>10</th>\n",
       "      <td>10941</td>\n",
       "      <td>50</td>\n",
       "      <td>“I AM IRONMAN! ”既是开始也是结束。谢谢钢铁侠，谢谢漫威给我们带来的欢笑、泪水...</td>\n",
       "      <td>2019-04-24</td>\n",
       "      <td>昊昊的说。</td>\n",
       "      <td>64</td>\n",
       "    </tr>\n",
       "    <tr>\n",
       "      <th>11</th>\n",
       "      <td>9538</td>\n",
       "      <td>50</td>\n",
       "      <td>五星全给黑寡妇，她是最伟大的复仇者！！！</td>\n",
       "      <td>2019-04-24</td>\n",
       "      <td>X教授的傻儿子</td>\n",
       "      <td>20</td>\n",
       "    </tr>\n",
       "    <tr>\n",
       "      <th>15</th>\n",
       "      <td>9508</td>\n",
       "      <td>50</td>\n",
       "      <td>I AM IRONMAN.</td>\n",
       "      <td>2019-04-24</td>\n",
       "      <td>雁落孤山</td>\n",
       "      <td>13</td>\n",
       "    </tr>\n",
       "    <tr>\n",
       "      <th>16</th>\n",
       "      <td>9149</td>\n",
       "      <td>50</td>\n",
       "      <td>凡人之躯 比肩神明 最后真的泪目</td>\n",
       "      <td>2019-04-24</td>\n",
       "      <td>梅西</td>\n",
       "      <td>16</td>\n",
       "    </tr>\n",
       "    <tr>\n",
       "      <th>1</th>\n",
       "      <td>6202</td>\n",
       "      <td>40</td>\n",
       "      <td>对某人而言这就叫有始有终吧，这个时代的星战（90后终于有长达十年的情怀和回忆了）</td>\n",
       "      <td>2019-04-24</td>\n",
       "      <td>深夜的阿斯伯格</td>\n",
       "      <td>40</td>\n",
       "    </tr>\n",
       "    <tr>\n",
       "      <th>2</th>\n",
       "      <td>5906</td>\n",
       "      <td>40</td>\n",
       "      <td>用三个小时的时间，与大家告别。是集结，是重聚，是告别，是牺牲。作为系列的最终篇，确实已经努力...</td>\n",
       "      <td>2019-04-24</td>\n",
       "      <td>桃桃林林</td>\n",
       "      <td>80</td>\n",
       "    </tr>\n",
       "    <tr>\n",
       "      <th>17</th>\n",
       "      <td>5616</td>\n",
       "      <td>50</td>\n",
       "      <td>I love you three thousand times.</td>\n",
       "      <td>2019-04-24</td>\n",
       "      <td>Theo</td>\n",
       "      <td>32</td>\n",
       "    </tr>\n",
       "    <tr>\n",
       "      <th>5</th>\n",
       "      <td>5613</td>\n",
       "      <td>40</td>\n",
       "      <td>搞不懂惊队吹这么久是为什么啥……感觉就是打了个酱油🙄🙄🙄</td>\n",
       "      <td>2019-04-24</td>\n",
       "      <td>sunmmr丶sea</td>\n",
       "      <td>28</td>\n",
       "    </tr>\n",
       "  </tbody>\n",
       "</table>\n",
       "</div>"
      ],
      "text/plain": [
       "     有用数量  评分                                               评论内容        评论时间  \\\n",
       "3   34711  50             如果你不喜欢这部电影，说明他不是为你准备的，故事的终章是为读过故事的人准备的  2019-04-24   \n",
       "0   18930  40  我是一个90后，我曾经很羡慕“上一代人”：40年前的观众，他们的影院里有星战正传三部曲的落幕...  2019-04-24   \n",
       "4   14841  50  托尼说好要回归家庭、陪伴家人，可最终还是选择了重出江湖，因为责任和使命，因为“我是钢铁侠”。...  2019-04-24   \n",
       "8   14169  30  不打感情分也就合格水准，通篇流水账观感还不如第三部，虽然我一直认为这类片无所谓剧透，不过为了...  2019-04-24   \n",
       "6   13229  50                                 钢铁侠成为了美队，美队活成了钢铁侠。  2019-04-24   \n",
       "7   13036  50            献给我人生中最美好的十一年。谢谢你，漫威，谢谢你让我的青春有了一个最完美的结局  2019-04-24   \n",
       "9   11930  50                                   谁能想到是一只老鼠拯救了地球呢？  2019-04-24   \n",
       "10  10941  50  “I AM IRONMAN! ”既是开始也是结束。谢谢钢铁侠，谢谢漫威给我们带来的欢笑、泪水...  2019-04-24   \n",
       "11   9538  50                               五星全给黑寡妇，她是最伟大的复仇者！！！  2019-04-24   \n",
       "15   9508  50                                      I AM IRONMAN.  2019-04-24   \n",
       "16   9149  50                                   凡人之躯 比肩神明 最后真的泪目  2019-04-24   \n",
       "1    6202  40           对某人而言这就叫有始有终吧，这个时代的星战（90后终于有长达十年的情怀和回忆了）  2019-04-24   \n",
       "2    5906  40  用三个小时的时间，与大家告别。是集结，是重聚，是告别，是牺牲。作为系列的最终篇，确实已经努力...  2019-04-24   \n",
       "17   5616  50                   I love you three thousand times.  2019-04-24   \n",
       "5    5613  40                       搞不懂惊队吹这么久是为什么啥……感觉就是打了个酱油🙄🙄🙄  2019-04-24   \n",
       "\n",
       "           评论者  评论字数  \n",
       "3          棠枫海    38  \n",
       "0          Tel   115  \n",
       "4           凌睿   335  \n",
       "8           小轨   128  \n",
       "6         Rafe    18  \n",
       "7            。    39  \n",
       "9        KarSa    16  \n",
       "10       昊昊的说。    64  \n",
       "11     X教授的傻儿子    20  \n",
       "15        雁落孤山    13  \n",
       "16          梅西    16  \n",
       "1      深夜的阿斯伯格    40  \n",
       "2         桃桃林林    80  \n",
       "17        Theo    32  \n",
       "5   sunmmr丶sea    28  "
      ]
     },
     "execution_count": 9,
     "metadata": {},
     "output_type": "execute_result"
    },
    {
     "data": {
      "image/png": "[encoded data removed]",
      "text/plain": [
       "<Figure size 864x360 with 1 Axes>"
      ]
     },
     "metadata": {
      "needs_background": "light"
     },
     "output_type": "display_data"
    }
   ],
   "source": [
    "# 评论字数与有用数量关系\n",
    "\n",
    "plt.figure(figsize = (12,5))\n",
    "plt.title('评论字数与有用数量关系')\n",
    "plt.scatter(df['评论字数'],df['有用数量'],alpha = 0.4)\n",
    "plt.xlabel('评论字数')\n",
    "plt.ylabel('有用数量')\n",
    "plt.grid(linestyle='--')\n",
    "\n",
    "df[df['有用数量']>5000].sort_values(by = '有用数量',ascending = False)"
   ]
  },
  {
   "cell_type": "code",
   "execution_count": 10,
   "metadata": {},
   "outputs": [
    {
     "data": {
      "image/png": "[encoded data removed]",
      "text/plain": [
       "<Figure size 864x360 with 1 Axes>"
      ]
     },
     "metadata": {
      "needs_background": "light"
     },
     "output_type": "display_data"
    }
   ],
   "source": [
    "# 评论字数与评分关系\n",
    "\n",
    "plt.figure(figsize = (12,5))\n",
    "plt.title('评论字数与评分关系')\n",
    "plt.scatter(df['评论字数'],df['评分'],alpha = 0.4)\n",
    "plt.xlabel('评论字数')\n",
    "plt.ylabel('评分')\n",
    "plt.grid(linestyle='--')"
   ]
  },
  {
   "cell_type": "code",
   "execution_count": 11,
   "metadata": {},
   "outputs": [
    {
     "data": {
      "image/png": "[encoded data removed]",
      "text/plain": [
       "<Figure size 864x360 with 1 Axes>"
      ]
     },
     "metadata": {
      "needs_background": "light"
     },
     "output_type": "display_data"
    }
   ],
   "source": [
    "# 评论时间与有用数量关系\n",
    "\n",
    "plt.figure(figsize = (12,5))\n",
    "plt.title('评论时间与有用数量')\n",
    "plt.scatter(df['评论时间'],df['有用数量'],alpha = 0.4,color='red')\n",
    "plt.xlabel('评论时间')\n",
    "plt.ylabel('有用数量')\n",
    "plt.grid(linestyle='--')"
   ]
  },
  {
   "cell_type": "code",
   "execution_count": 12,
   "metadata": {},
   "outputs": [
    {
     "data": {
      "image/png": "[encoded data removed]",
      "text/plain": [
       "<Figure size 864x360 with 1 Axes>"
      ]
     },
     "metadata": {
      "needs_background": "light"
     },
     "output_type": "display_data"
    }
   ],
   "source": [
    "# 评论时间与评分关系\n",
    "\n",
    "plt.figure(figsize = (12,5))\n",
    "plt.title('评论时间与评分关系')\n",
    "plt.scatter(df['评论时间'],df['评分'],alpha = 0.4,color='red')\n",
    "plt.xlabel('评论时间')\n",
    "plt.ylabel('评分')\n",
    "plt.grid(linestyle='--')"
   ]
  },
  {
   "cell_type": "markdown",
   "metadata": {},
   "source": [
    "### 3、关键人物分析"
   ]
  },
  {
   "cell_type": "code",
   "execution_count": 13,
   "metadata": {},
   "outputs": [
    {
     "data": {
      "text/html": [
       "<div>\n",
       "<style scoped>\n",
       "    .dataframe tbody tr th:only-of-type {\n",
       "        vertical-align: middle;\n",
       "    }\n",
       "\n",
       "    .dataframe tbody tr th {\n",
       "        vertical-align: top;\n",
       "    }\n",
       "\n",
       "    .dataframe thead th {\n",
       "        text-align: right;\n",
       "    }\n",
       "</style>\n",
       "<table border=\"1\" class=\"dataframe\">\n",
       "  <thead>\n",
       "    <tr style=\"text-align: right;\">\n",
       "      <th></th>\n",
       "      <th>有用数量</th>\n",
       "      <th>评分</th>\n",
       "      <th>评论内容</th>\n",
       "      <th>评论时间</th>\n",
       "      <th>评论者</th>\n",
       "      <th>评论字数</th>\n",
       "    </tr>\n",
       "  </thead>\n",
       "  <tbody>\n",
       "    <tr>\n",
       "      <th>0</th>\n",
       "      <td>18930</td>\n",
       "      <td>40</td>\n",
       "      <td>我是一个90后，我曾经很羡慕“上一代人”：40年前的观众，他们的影院里有星战正传三部曲的落幕...</td>\n",
       "      <td>2019-04-24</td>\n",
       "      <td>Tel</td>\n",
       "      <td>115</td>\n",
       "    </tr>\n",
       "    <tr>\n",
       "      <th>1</th>\n",
       "      <td>6202</td>\n",
       "      <td>40</td>\n",
       "      <td>对某人而言这就叫有始有终吧，这个时代的星战（90后终于有长达十年的情怀和回忆了）</td>\n",
       "      <td>2019-04-24</td>\n",
       "      <td>深夜的阿斯伯格</td>\n",
       "      <td>40</td>\n",
       "    </tr>\n",
       "    <tr>\n",
       "      <th>2</th>\n",
       "      <td>5906</td>\n",
       "      <td>40</td>\n",
       "      <td>用三个小时的时间，与大家告别。是集结，是重聚，是告别，是牺牲。作为系列的最终篇，确实已经努力...</td>\n",
       "      <td>2019-04-24</td>\n",
       "      <td>桃桃林林</td>\n",
       "      <td>80</td>\n",
       "    </tr>\n",
       "    <tr>\n",
       "      <th>3</th>\n",
       "      <td>34711</td>\n",
       "      <td>50</td>\n",
       "      <td>如果你不喜欢这部电影，说明他不是为你准备的，故事的终章是为读过故事的人准备的</td>\n",
       "      <td>2019-04-24</td>\n",
       "      <td>棠枫海</td>\n",
       "      <td>38</td>\n",
       "    </tr>\n",
       "    <tr>\n",
       "      <th>4</th>\n",
       "      <td>14841</td>\n",
       "      <td>50</td>\n",
       "      <td>托尼说好要回归家庭、陪伴家人，可最终还是选择了重出江湖，因为责任和使命，因为“我是钢铁侠”。...</td>\n",
       "      <td>2019-04-24</td>\n",
       "      <td>凌睿</td>\n",
       "      <td>335</td>\n",
       "    </tr>\n",
       "  </tbody>\n",
       "</table>\n",
       "</div>"
      ],
      "text/plain": [
       "    有用数量  评分                                               评论内容        评论时间  \\\n",
       "0  18930  40  我是一个90后，我曾经很羡慕“上一代人”：40年前的观众，他们的影院里有星战正传三部曲的落幕...  2019-04-24   \n",
       "1   6202  40           对某人而言这就叫有始有终吧，这个时代的星战（90后终于有长达十年的情怀和回忆了）  2019-04-24   \n",
       "2   5906  40  用三个小时的时间，与大家告别。是集结，是重聚，是告别，是牺牲。作为系列的最终篇，确实已经努力...  2019-04-24   \n",
       "3  34711  50             如果你不喜欢这部电影，说明他不是为你准备的，故事的终章是为读过故事的人准备的  2019-04-24   \n",
       "4  14841  50  托尼说好要回归家庭、陪伴家人，可最终还是选择了重出江湖，因为责任和使命，因为“我是钢铁侠”。...  2019-04-24   \n",
       "\n",
       "       评论者  评论字数  \n",
       "0      Tel   115  \n",
       "1  深夜的阿斯伯格    40  \n",
       "2     桃桃林林    80  \n",
       "3      棠枫海    38  \n",
       "4       凌睿   335  "
      ]
     },
     "execution_count": 13,
     "metadata": {},
     "output_type": "execute_result"
    }
   ],
   "source": [
    "df.head()"
   ]
  },
  {
   "cell_type": "code",
   "execution_count": 14,
   "metadata": {},
   "outputs": [
    {
     "name": "stdout",
     "output_type": "stream",
     "text": [
      "180\n",
      "14\n"
     ]
    }
   ],
   "source": [
    "keyword = '灭霸'\n",
    "n = 0\n",
    "for i in df['评论内容']:\n",
    "    if keyword in i:\n",
    "        n += 1\n",
    "print(len(df))\n",
    "print(n)"
   ]
  },
  {
   "cell_type": "code",
   "execution_count": 16,
   "metadata": {},
   "outputs": [
    {
     "data": {
      "text/plain": [
       "13"
      ]
     },
     "execution_count": 16,
     "metadata": {},
     "output_type": "execute_result"
    }
   ],
   "source": [
    "# 创建函数查找文字出现次数\n",
    "\n",
    "def name_count(namei,s):\n",
    "    n = 0\n",
    "    for i in s:\n",
    "        if namei in i:\n",
    "            n += 1\n",
    "    return n\n",
    "\n",
    "name_count('美队',df['评论内容'])"
   ]
  },
  {
   "cell_type": "code",
   "execution_count": 17,
   "metadata": {},
   "outputs": [
    {
     "name": "stdout",
     "output_type": "stream",
     "text": [
      "美队 13\n",
      "钢铁侠 16\n",
      "灭霸 14\n",
      "黑寡妇 8\n",
      "雷神 13\n",
      "浩克 2\n",
      "惊奇队长 12\n",
      "鹰眼 5\n",
      "蚁人 8\n",
      "奇异博士 2\n",
      "蜘蛛侠 1\n",
      "星云 2\n",
      "黑豹 1\n"
     ]
    }
   ],
   "source": [
    "namelst = ['美队','钢铁侠','灭霸','黑寡妇','雷神','浩克','惊奇队长',\n",
    "            '鹰眼','蚁人','奇异博士','蜘蛛侠','星云','黑豹']\n",
    "            \n",
    "for i in namelst:\n",
    "    print(i,name_count(i,df['评论内容']))"
   ]
  },
  {
   "cell_type": "code",
   "execution_count": 18,
   "metadata": {},
   "outputs": [
    {
     "data": {
      "text/plain": [
       "[{'关键词': '美队', '出现频率': 13},\n",
       " {'关键词': '钢铁侠', '出现频率': 16},\n",
       " {'关键词': '灭霸', '出现频率': 14},\n",
       " {'关键词': '黑寡妇', '出现频率': 8},\n",
       " {'关键词': '雷神', '出现频率': 13},\n",
       " {'关键词': '浩克', '出现频率': 2},\n",
       " {'关键词': '惊奇队长', '出现频率': 12},\n",
       " {'关键词': '鹰眼', '出现频率': 5},\n",
       " {'关键词': '蚁人', '出现频率': 8},\n",
       " {'关键词': '奇异博士', '出现频率': 2},\n",
       " {'关键词': '蜘蛛侠', '出现频率': 1},\n",
       " {'关键词': '星云', '出现频率': 2},\n",
       " {'关键词': '黑豹', '出现频率': 1}]"
      ]
     },
     "execution_count": 18,
     "metadata": {},
     "output_type": "execute_result"
    }
   ],
   "source": [
    "# 计算不同关键字出现频率\n",
    "\n",
    "namelst = ['美队','钢铁侠','灭霸','黑寡妇','雷神','浩克','惊奇队长',\n",
    "            '鹰眼','蚁人','奇异博士','蜘蛛侠','星云','黑豹']\n",
    "\n",
    "lst = []\n",
    "for namei in namelst:\n",
    "    lst.append({'关键词': namei,'出现频率': name_count(namei,df['评论内容'])})\n",
    "\n",
    "lst"
   ]
  },
  {
   "cell_type": "code",
   "execution_count": 19,
   "metadata": {},
   "outputs": [
    {
     "data": {
      "text/html": [
       "<div>\n",
       "<style scoped>\n",
       "    .dataframe tbody tr th:only-of-type {\n",
       "        vertical-align: middle;\n",
       "    }\n",
       "\n",
       "    .dataframe tbody tr th {\n",
       "        vertical-align: top;\n",
       "    }\n",
       "\n",
       "    .dataframe thead th {\n",
       "        text-align: right;\n",
       "    }\n",
       "</style>\n",
       "<table border=\"1\" class=\"dataframe\">\n",
       "  <thead>\n",
       "    <tr style=\"text-align: right;\">\n",
       "      <th></th>\n",
       "      <th>关键词</th>\n",
       "      <th>出现频率</th>\n",
       "    </tr>\n",
       "  </thead>\n",
       "  <tbody>\n",
       "    <tr>\n",
       "      <th>0</th>\n",
       "      <td>美队</td>\n",
       "      <td>13</td>\n",
       "    </tr>\n",
       "    <tr>\n",
       "      <th>1</th>\n",
       "      <td>钢铁侠</td>\n",
       "      <td>16</td>\n",
       "    </tr>\n",
       "    <tr>\n",
       "      <th>2</th>\n",
       "      <td>灭霸</td>\n",
       "      <td>14</td>\n",
       "    </tr>\n",
       "    <tr>\n",
       "      <th>3</th>\n",
       "      <td>黑寡妇</td>\n",
       "      <td>8</td>\n",
       "    </tr>\n",
       "    <tr>\n",
       "      <th>4</th>\n",
       "      <td>雷神</td>\n",
       "      <td>13</td>\n",
       "    </tr>\n",
       "    <tr>\n",
       "      <th>5</th>\n",
       "      <td>浩克</td>\n",
       "      <td>2</td>\n",
       "    </tr>\n",
       "    <tr>\n",
       "      <th>6</th>\n",
       "      <td>惊奇队长</td>\n",
       "      <td>12</td>\n",
       "    </tr>\n",
       "    <tr>\n",
       "      <th>7</th>\n",
       "      <td>鹰眼</td>\n",
       "      <td>5</td>\n",
       "    </tr>\n",
       "    <tr>\n",
       "      <th>8</th>\n",
       "      <td>蚁人</td>\n",
       "      <td>8</td>\n",
       "    </tr>\n",
       "    <tr>\n",
       "      <th>9</th>\n",
       "      <td>奇异博士</td>\n",
       "      <td>2</td>\n",
       "    </tr>\n",
       "    <tr>\n",
       "      <th>10</th>\n",
       "      <td>蜘蛛侠</td>\n",
       "      <td>1</td>\n",
       "    </tr>\n",
       "    <tr>\n",
       "      <th>11</th>\n",
       "      <td>星云</td>\n",
       "      <td>2</td>\n",
       "    </tr>\n",
       "    <tr>\n",
       "      <th>12</th>\n",
       "      <td>黑豹</td>\n",
       "      <td>1</td>\n",
       "    </tr>\n",
       "  </tbody>\n",
       "</table>\n",
       "</div>"
      ],
      "text/plain": [
       "     关键词  出现频率\n",
       "0     美队    13\n",
       "1    钢铁侠    16\n",
       "2     灭霸    14\n",
       "3    黑寡妇     8\n",
       "4     雷神    13\n",
       "5     浩克     2\n",
       "6   惊奇队长    12\n",
       "7     鹰眼     5\n",
       "8     蚁人     8\n",
       "9   奇异博士     2\n",
       "10   蜘蛛侠     1\n",
       "11    星云     2\n",
       "12    黑豹     1"
      ]
     },
     "execution_count": 19,
     "metadata": {},
     "output_type": "execute_result"
    }
   ],
   "source": [
    "pd.DataFrame(lst)"
   ]
  },
  {
   "cell_type": "code",
   "execution_count": 20,
   "metadata": {},
   "outputs": [],
   "source": [
    "result = pd.DataFrame(lst)\n",
    "result.to_csv('result.csv')"
   ]
  },
  {
   "cell_type": "code",
   "execution_count": 21,
   "metadata": {},
   "outputs": [
    {
     "name": "stdout",
     "output_type": "stream",
     "text": [
      "美队   13\n",
      "钢铁侠   16\n",
      "灭霸   14\n",
      "黑寡妇   8\n",
      "雷神   13\n",
      "浩克   2\n",
      "惊奇队长   12\n",
      "鹰眼   5\n",
      "蚁人   8\n",
      "奇异博士   2\n",
      "蜘蛛侠   1\n",
      "星云   2\n",
      "黑豹   1\n"
     ]
    }
   ],
   "source": [
    "for i in lst:\n",
    "    print(i['关键词'],' ',i['出现频率'])"
   ]
  },
  {
   "cell_type": "code",
   "execution_count": null,
   "metadata": {},
   "outputs": [],
   "source": []
  }
 ],
 "metadata": {
  "kernelspec": {
   "display_name": "Python 3",
   "language": "python",
   "name": "python3"
  },
  "language_info": {
   "codemirror_mode": {
    "name": "ipython",
    "version": 3
   },
   "file_extension": ".py",
   "mimetype": "text/x-python",
   "name": "python",
   "nbconvert_exporter": "python",
   "pygments_lexer": "ipython3",
   "version": "3.7.0"
  }
 },
 "nbformat": 4,
 "nbformat_minor": 2
}
